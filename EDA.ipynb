{
 "cells": [
  {
   "cell_type": "markdown",
   "metadata": {},
   "source": [
    "# Introduction\n",
    "\n",
    "Mobile carrier Megaline has found out that many of their subscribers use legacy plans. They want to develop a model that will analyze subscribers' behavior and recommend one of Megaline's newer plans: Smart or Ultra.\n",
    "\n",
    "The goal is to develop a model with the highest possible accuracy, with a minimum accuracy of at least 75%.\n",
    "\n",
    "This notebook will test three different ML models with varying hyperparameters to determine the best model to meet Megaline's requirements. "
   ]
  },
  {
   "cell_type": "code",
   "execution_count": 29,
   "metadata": {},
   "outputs": [],
   "source": [
    "# Import standard libraries\n",
    "import os\n",
    "import warnings\n",
    "import joblib\n",
    "\n",
    "# Import 3rd party libraries\n",
    "import pandas as pd\n",
    "import numpy as np\n",
    "import matplotlib.pyplot as plt\n",
    "import seaborn as sns\n",
    "from tqdm import tqdm\n",
    "\n",
    "# Sklearn imports\n",
    "from sklearn.model_selection import train_test_split\n",
    "from sklearn.tree import DecisionTreeClassifier\n",
    "from sklearn.ensemble import RandomForestClassifier\n",
    "from sklearn.linear_model import LogisticRegression\n",
    "from sklearn.metrics import accuracy_score # for sanity checks\n",
    "from sklearn.metrics import confusion_matrix\n",
    "from sklearn.exceptions import ConvergenceWarning\n",
    "\n",
    "# Scikit Optimize imports\n",
    "from skopt import gp_minimize\n",
    "from skopt.space import Categorical, Integer"
   ]
  },
  {
   "cell_type": "code",
   "execution_count": 30,
   "metadata": {},
   "outputs": [],
   "source": [
    "# Import the data\n",
    "try:\n",
    "    # Local path\n",
    "    data = pd.read_csv('users_behavior.csv')\n",
    "except:\n",
    "    # TripleTen path\n",
    "    data = pd.read_csv('/datasets/users_behavior.csv')\n",
    "\n",
    "# restet the index for good measure\n",
    "data.reset_index(drop=True, inplace=True)"
   ]
  },
  {
   "cell_type": "markdown",
   "metadata": {},
   "source": [
    "# Initial Inspection of Data"
   ]
  },
  {
   "cell_type": "code",
   "execution_count": 31,
   "metadata": {},
   "outputs": [
    {
     "name": "stdout",
     "output_type": "stream",
     "text": [
      "<class 'pandas.core.frame.DataFrame'>\n",
      "RangeIndex: 3214 entries, 0 to 3213\n",
      "Data columns (total 5 columns):\n",
      " #   Column    Non-Null Count  Dtype  \n",
      "---  ------    --------------  -----  \n",
      " 0   calls     3214 non-null   float64\n",
      " 1   minutes   3214 non-null   float64\n",
      " 2   messages  3214 non-null   float64\n",
      " 3   mb_used   3214 non-null   float64\n",
      " 4   is_ultra  3214 non-null   int64  \n",
      "dtypes: float64(4), int64(1)\n",
      "memory usage: 125.7 KB\n"
     ]
    }
   ],
   "source": [
    "data.info()"
   ]
  },
  {
   "cell_type": "code",
   "execution_count": 32,
   "metadata": {},
   "outputs": [
    {
     "name": "stdout",
     "output_type": "stream",
     "text": [
      "             calls      minutes     messages       mb_used     is_ultra\n",
      "count  3214.000000  3214.000000  3214.000000   3214.000000  3214.000000\n",
      "mean     63.038892   438.208787    38.281269  17207.673836     0.306472\n",
      "std      33.236368   234.569872    36.148326   7570.968246     0.461100\n",
      "min       0.000000     0.000000     0.000000      0.000000     0.000000\n",
      "25%      40.000000   274.575000     9.000000  12491.902500     0.000000\n",
      "50%      62.000000   430.600000    30.000000  16943.235000     0.000000\n",
      "75%      82.000000   571.927500    57.000000  21424.700000     1.000000\n",
      "max     244.000000  1632.060000   224.000000  49745.730000     1.000000\n",
      "\n",
      "is_ultra\n",
      "0    0.693528\n",
      "1    0.306472\n",
      "Name: proportion, dtype: float64\n"
     ]
    }
   ],
   "source": [
    "# Describe the data\n",
    "print(data.describe())\n",
    "\n",
    "# Get percent of is_ultra\n",
    "print()\n",
    "print(data['is_ultra'].value_counts(normalize=True))"
   ]
  },
  {
   "cell_type": "markdown",
   "metadata": {},
   "source": [
    "**Plan representation** there is a ~ 30 / 70 representation with the plans favoring the Smart plan, this may need to be accounted for in the training. I think I will use class weighting to address this.\n",
    "\n",
    "There are no missing values in the dataset and all the columns are the correct types.  \n",
    "There is significant spread in the features, but this is expected considering the variability in cell service usage.  \n",
    "The zero values in the features should be left as is, because many users do not use one or several services at all and should be considered in the model.  "
   ]
  },
  {
   "cell_type": "markdown",
   "metadata": {},
   "source": [
    "# Split Data into train, validate, and test sets"
   ]
  },
  {
   "cell_type": "code",
   "execution_count": 33,
   "metadata": {},
   "outputs": [
    {
     "name": "stdout",
     "output_type": "stream",
     "text": [
      "Features Train: (1928, 4)\n",
      "Target Train: (1928,), percent of is_ultra: 0.31.\n",
      "Features Validate: (643, 4)\n",
      "Target Validate: (643,), percent of is_ultra: 0.31\n",
      "Features Test: (643, 4)\n",
      "Target Test: (643,), percent of is_ultra: 0.31\n"
     ]
    }
   ],
   "source": [
    "# Define features and target\n",
    "features = data.drop('is_ultra', axis=1)\n",
    "target = data['is_ultra']\n",
    "\n",
    "# Define a constant for the random state\n",
    "random_state = 12345\n",
    "\n",
    "# Split the data into 60% train, 40% test/validate\n",
    "features_train, features_test, target_train, target_test = train_test_split(features, target, test_size=0.4, random_state=random_state, stratify=target) # stratify to account for the imbalance in the target\n",
    "\n",
    "# Split the test data into 50% test, 50% validate\n",
    "features_validate, features_test, target_validate, target_test = train_test_split(features_test, target_test, test_size=0.5, random_state=random_state, stratify=target_test) # stratify to account for the imbalance in the target\n",
    "\n",
    "# Check the shapes\n",
    "print(f'Features Train: {features_train.shape}')\n",
    "print(f'Target Train: {target_train.shape}, percent of is_ultra: {target_train.value_counts(normalize=True)[1]:.2f}.')\n",
    "print(f'Features Validate: {features_validate.shape}')\n",
    "print(f'Target Validate: {target_validate.shape}, percent of is_ultra: {target_validate.value_counts(normalize=True)[1]:.2f}')\n",
    "print(f'Features Test: {features_test.shape}')\n",
    "print(f'Target Test: {target_test.shape}, percent of is_ultra: {target_test.value_counts(normalize=True)[1]:.2f}')"
   ]
  },
  {
   "cell_type": "markdown",
   "metadata": {},
   "source": [
    "The data set has been split into 60% training, 20% validate, 20% final test. Each subset has approximately the same is_ultra ratio to the full dataset."
   ]
  },
  {
   "cell_type": "code",
   "execution_count": 34,
   "metadata": {},
   "outputs": [],
   "source": [
    "model_test_scores = []"
   ]
  },
  {
   "cell_type": "markdown",
   "metadata": {},
   "source": [
    "# Sanity Check\n",
    "\n",
    "Against weighted random predictions"
   ]
  },
  {
   "cell_type": "code",
   "execution_count": 35,
   "metadata": {},
   "outputs": [
    {
     "name": "stdout",
     "output_type": "stream",
     "text": [
      "Random predictions score: 0.5614307931570762\n"
     ]
    }
   ],
   "source": [
    "# Number of instances in the test set\n",
    "n_test = len(target_test)\n",
    "\n",
    "# Define np random seed\n",
    "np.random.seed(random_state)\n",
    "\n",
    "# Make the weighted random predictions\n",
    "random_predictions = np.random.choice([0, 1], size=n_test, p=[0.7, 0.3]) # 70% chance of 0, 30% chance of 1\n",
    "\n",
    "# Calculate the accuracy of the random predictions\n",
    "random_accuracy = accuracy_score(target_test, random_predictions)\n",
    "print(f'Random predictions score: {random_accuracy}')"
   ]
  },
  {
   "cell_type": "markdown",
   "metadata": {},
   "source": [
    "Against constant prediction of the majority class (Smart plan)"
   ]
  },
  {
   "cell_type": "code",
   "execution_count": 36,
   "metadata": {},
   "outputs": [
    {
     "name": "stdout",
     "output_type": "stream",
     "text": [
      "Baseline predictions score: 0.6936236391912908\n"
     ]
    }
   ],
   "source": [
    "# pd series of len(target_test) with all 0s\n",
    "baseline_predictions = pd.Series(np.zeros(n_test))\n",
    "\n",
    "# Calculate the accuracy of the baseline predictions\n",
    "baseline_accuracy = accuracy_score(target_test, baseline_predictions)\n",
    "print(f'Baseline predictions score: {baseline_accuracy}')\n"
   ]
  },
  {
   "cell_type": "markdown",
   "metadata": {},
   "source": [
    "Using random predictions, we get an accuracy of 56%.  \n",
    "Using a baseline prediction of always guessing 0, or the Smart plan, we get an accuracy of about 69%.  \n",
    "Both of these values are below the stated business requirement for an accuracy of 75%, so 75% continues to be the threshold for what we will consider a successful model."
   ]
  },
  {
   "cell_type": "markdown",
   "metadata": {},
   "source": [
    "# Functions"
   ]
  },
  {
   "cell_type": "code",
   "execution_count": 37,
   "metadata": {},
   "outputs": [],
   "source": [
    "def test_model(params, model_name, features_train=features_train, target_train=target_train, features_validate=features_validate, target_validate=target_validate, features_test=features_test, target_test=target_test, random_state=random_state):\n",
    "    \"\"\"\n",
    "    Test a machine learning model on the test data and return the test score.\n",
    "\n",
    "    Parameters:\n",
    "    - params (dict): A dictionary of hyperparameters for the model.\n",
    "    - model_name (class): The class name of the model to be tested.\n",
    "    - features_train (DataFrame): The training features data.\n",
    "    - target_train (Series): The training target data.\n",
    "    - features_validate (DataFrame): The validation features data.\n",
    "    - target_validate (Series): The validation target data.\n",
    "    - features_test (DataFrame): The test features data.\n",
    "    - target_test (Series): The test target data.\n",
    "    - random_state (int): The random state for reproducibility.\n",
    "\n",
    "    Returns:\n",
    "    - dict: A dictionary containing the model name, test score, and parameters.\n",
    "    \"\"\"\n",
    "    # Retrain the model with the best parameters using the training and validation data\n",
    "    model = model_name(random_state=random_state, **params)\n",
    "    model.fit(pd.concat([features_train, features_validate]), pd.concat([target_train, target_validate]))\n",
    "\n",
    "    # Test the model on the test data\n",
    "    test_score = model.score(features_test, target_test)\n",
    "    print(f'{model_name.__name__} Test Score: {test_score}')\n",
    "    \n",
    "    # Get predictions for confusion matrix\n",
    "    predictions = model.predict(features_test)\n",
    "    \n",
    "    # Get the confusion matrix\n",
    "    cm = confusion_matrix(target_test, predictions)\n",
    "    \n",
    "    # Define labels for each quadrant\n",
    "    group_names = ['True Negative', 'False Positive', 'False Negative', 'True Positive']\n",
    "    group_counts = [\"{0:0.0f}\".format(value) for value in cm.flatten()]\n",
    "    labels = [f\"{v1}\\n{v2}\" for v1, v2 in zip(group_names, group_counts)]\n",
    "    labels = np.asarray(labels).reshape(2,2)\n",
    "\n",
    "    # Plot the confusion matrix with labels\n",
    "    plt.figure(figsize=(8, 6))\n",
    "    sns.heatmap(cm, annot=labels, fmt='', cmap='Blues')\n",
    "    plt.xlabel('Predicted')\n",
    "    plt.ylabel('Actual')\n",
    "    plt.title(f'{model_name.__name__} Confusion Matrix')\n",
    "    plt.show()\n",
    "\n",
    "    return {'model': model_name.__name__, 'score': test_score, 'parameters': params}\n"
   ]
  },
  {
   "cell_type": "code",
   "execution_count": 38,
   "metadata": {},
   "outputs": [],
   "source": [
    "def validate_DecisionTreeClassifier_depth(features_train, target_train, features_validate, target_validate, random_state, range_start, range_end):\n",
    "    \"\"\"\n",
    "    Validates the DecisionTreeClassifier model by varying the max_depth parameter within a given range.\n",
    "\n",
    "    Parameters:\n",
    "    - features_train (array-like): Training features.\n",
    "    - target_train (array-like): Training target.\n",
    "    - features_validate (array-like): Validation features.\n",
    "    - target_validate (array-like): Validation target.\n",
    "    - random_state (int): Random state for reproducibility.\n",
    "    - range_start (int): Starting value of max_depth range.\n",
    "    - range_end (int): Ending value of max_depth range.\n",
    "\n",
    "    Returns:\n",
    "    - best_score (float): Best score achieved by the model.\n",
    "    - best_depth (int): Best max_depth value that achieved the best score.\n",
    "    - results_df (DataFrame): DataFrame containing the scores for each max_depth value.\n",
    "    \"\"\"\n",
    "    results = []\n",
    "    for depth in range(range_start, range_end):\n",
    "        model = DecisionTreeClassifier(max_depth=depth, random_state=random_state)\n",
    "        model.fit(features_train, target_train)\n",
    "        score = model.score(features_validate, target_validate)\n",
    "        results.append({'depth': depth, 'score': score})\n",
    "\n",
    "    results_df = pd.DataFrame(results)\n",
    "    \n",
    "    best_score = results_df['score'].max()\n",
    "    best_depth = results_df.loc[results_df['score'].idxmax()]['depth']\n",
    "\n",
    "    # Plot the results\n",
    "    results_df.plot(x='depth', y='score', title='Decision Tree score by Depth')\n",
    "    # Keep xticks in integer format\n",
    "    plt.xticks(np.arange(range_start, range_end, 1))\n",
    "      \n",
    "    \n",
    "    plt.show()\n",
    "    \n",
    "    print(f'\\nDecisionTreeClassifier: Best Score: {best_score}, Best Depth: {best_depth}')\n",
    "\n",
    "    return best_score, best_depth"
   ]
  },
  {
   "cell_type": "code",
   "execution_count": 39,
   "metadata": {},
   "outputs": [],
   "source": [
    "def validate_DecisionTreeClassifier(features_train=features_train, target_train=target_train, features_validate=features_validate, target_validate=target_validate, random_state=random_state,\n",
    "                                class_weight=[None,'balanced'], max_depth=list(range(1, 21))+[None], splitter=['best', 'random'],\n",
    "                                criterion=['gini', 'entropy', 'log_loss'], min_samples_split=list(range(2, 18)),\n",
    "                                min_samples_leaf=list(range(1, 18)), max_features=[None, 'sqrt', 'log2']):\n",
    "    \"\"\"\n",
    "    Test different configurations of the DecisionTreeClassifier model and return the best score and parameters.\n",
    "    \n",
    "    Parameters:\n",
    "    - features_train: The training features.\n",
    "    - target_train: The training target.\n",
    "    - features_validate: The validation features.\n",
    "    - target_validate: The validation target.\n",
    "    - random_state: The random state for reproducibility. Default is random_state.\n",
    "    - class_weight: The class weight options. Default is [None, 'balanced']. Tests use of 'balanced' because the 'smart' plan is overrepresented in the data.\n",
    "    - max_depth: The maximum depth of the tree. Default is a list from 1 to 20.\n",
    "    - splitter: The strategy used to choose the split at each node. Default is ['best', 'random'].\n",
    "    - criterion: The function to measure the quality of a split. Default is ['gini', 'entropy', 'log_loss].\n",
    "    - min_samples_split: The minimum number of samples required to split an internal node. Default is a list from 2 to 18.\n",
    "    - min_samples_leaf: The minimum number of samples required to be at a leaf node. Default is a list from 1 to 18.\n",
    "    - max_features: The number of features to consider when looking for the best split. Default is [None, 'sqrt', 'log2'].\n",
    "    - print_progress: Whether to print the progress of the model testing. Default is False.\n",
    "    \n",
    "    Returns:\n",
    "    - best_score: The best score achieved by the model.\n",
    "    - best_params: The parameters that resulted in the best score.\n",
    "    - results_df: A DataFrame tracking the scores and parameters of each iteration.\n",
    "    \"\"\"\n",
    "    \n",
    "    results = []\n",
    "    \n",
    "    # Calculate total number of iterations\n",
    "    total = len(class_weight) * len(max_depth) * len(splitter) * len(criterion) * len(min_samples_split) * len(min_samples_leaf) * len(max_features)\n",
    "\n",
    "    # Wrap the loop in tqdm to show a progress bar\n",
    "    with tqdm(total=total, desc='Testing DecisionTreeClassifier Parameters', unit='iterations') as pbar:\n",
    "        for cw in class_weight:\n",
    "            for md in max_depth:\n",
    "                for s in splitter:\n",
    "                    for c in criterion:\n",
    "                        for mss in min_samples_split:\n",
    "                            for msl in min_samples_leaf:\n",
    "                                for mf in max_features:\n",
    "                                    # Save params in a dict\n",
    "                                    params = {'class_weight': cw, 'max_depth': md, 'splitter': s, 'criterion': c, 'min_samples_split': mss, 'min_samples_leaf': msl, 'max_features': mf}\n",
    "                                    \n",
    "                                    # Define, train, and score the model\n",
    "                                    model = DecisionTreeClassifier(random_state=random_state, class_weight=cw, max_depth=md, splitter=s, criterion=c, min_samples_split=mss, min_samples_leaf=msl, max_features=mf)\n",
    "                                    model.fit(features_train, target_train)\n",
    "                                    score = model.score(features_validate, target_validate)\n",
    "                                    \n",
    "                                    # Save the results\n",
    "                                    results.append({'score': score, 'params': params})\n",
    "                                    \n",
    "                                    # Update the progress bar\n",
    "                                    pbar.update(1)\n",
    "                                    \n",
    "    \n",
    "    # Convert the results to a DataFrame\n",
    "    results_df = pd.DataFrame(results)\n",
    "    \n",
    "    # Get the best score and params\n",
    "    best_score = results_df['score'].max()\n",
    "    best_params = results_df.loc[results_df['score'].idxmax()]['params']\n",
    "        \n",
    "    return best_score, best_params"
   ]
  },
  {
   "cell_type": "code",
   "execution_count": 40,
   "metadata": {},
   "outputs": [],
   "source": [
    "def opti_validate_DecisionTreeClassifier(features_train=features_train, target_train=target_train, features_validate=features_validate, target_validate=target_validate, random_state=random_state,\n",
    "                                    n_calls=100,\n",
    "                                    class_weight_list=[None, 'balanced'],\n",
    "                                    max_depth_range=(1, 21),\n",
    "                                    include_none_in_max_depth=True,\n",
    "                                    splitter_list=['best', 'random'],\n",
    "                                    criterion_list=['gini', 'entropy', 'log_loss'],\n",
    "                                    min_samples_split_range=(2, 18),\n",
    "                                    min_samples_leaf_range=(1, 18),\n",
    "                                    max_features_list=[None, 'sqrt', 'log2']):\n",
    "    \"\"\"\n",
    "    Optimize DecisionTreeClassifier using Scikit-Optimize with a progress bar.\n",
    "\n",
    "    Parameters:\n",
    "    - features_train (DataFrame): The training features data.\n",
    "    - target_train (Series): The training target data.\n",
    "    - features_validate (DataFrame): The validation features data.\n",
    "    - target_validate (Series): The validation target data.\n",
    "    - random_state (int): The random state for reproducibility.\n",
    "    - class_weight_list (list): List of class weight options.\n",
    "    - max_depth_range (tuple): Range for max depth.\n",
    "    - include_none_in_max_depth (bool): Whether to include None in max depth.\n",
    "    - splitter_list (list): List of splitter options.\n",
    "    - criterion_list (list): List of criteria options.\n",
    "    - min_samples_split_range (tuple): Range for min samples split.\n",
    "    - min_samples_leaf_range (tuple): Range for min samples leaf.\n",
    "    - max_features_list (list): List of max features options.\n",
    "\n",
    "    Returns:\n",
    "    - best_score (float): The best validation score achieved.\n",
    "    - best_params (dict): The best hyperparameters found during the optimization.\n",
    "    \"\"\"\n",
    "    # Define the search space\n",
    "    search_space = [\n",
    "        Categorical(class_weight_list, name='class_weight'),\n",
    "        Integer(max_depth_range[0], max_depth_range[1], name='max_depth') if not include_none_in_max_depth else Integer(max_depth_range[0], max_depth_range[1] + 1, name='max_depth'),\n",
    "        Categorical(splitter_list, name='splitter'),\n",
    "        Categorical(criterion_list, name='criterion'),\n",
    "        Integer(min_samples_split_range[0], min_samples_split_range[1], name='min_samples_split'),\n",
    "        Integer(min_samples_leaf_range[0], min_samples_leaf_range[1], name='min_samples_leaf'),\n",
    "        Categorical(max_features_list, name='max_features')\n",
    "    ]\n",
    "\n",
    "    # Initialize the progress bar\n",
    "    with tqdm(total=n_calls, desc='Optimizing DecisionTreeClassifier', unit='iteration') as pbar:\n",
    "        def objective(params):\n",
    "            class_weight, max_depth, splitter, criterion, min_samples_split, min_samples_leaf, max_features = params\n",
    "\n",
    "            # Handle None for max_depth\n",
    "            if include_none_in_max_depth and max_depth == max_depth_range[1] + 1:\n",
    "                max_depth = None\n",
    "\n",
    "            model = DecisionTreeClassifier(\n",
    "                random_state=random_state,\n",
    "                class_weight=class_weight,\n",
    "                max_depth=max_depth,\n",
    "                splitter=splitter,\n",
    "                criterion=criterion,\n",
    "                min_samples_split=min_samples_split,\n",
    "                min_samples_leaf=min_samples_leaf,\n",
    "                max_features=max_features\n",
    "            )\n",
    "\n",
    "            # Train the model\n",
    "            model.fit(features_train, target_train)\n",
    "\n",
    "            # Evaluate the model\n",
    "            score = model.score(features_validate, target_validate)\n",
    "\n",
    "            # Update progress bar\n",
    "            pbar.update(1)\n",
    "\n",
    "            return -score\n",
    "\n",
    "        # Perform the optimization\n",
    "        result = gp_minimize(objective, search_space, n_calls=n_calls, random_state=random_state)\n",
    "\n",
    "        # Close the progress bar\n",
    "        pbar.close()\n",
    "\n",
    "        # Extract the best parameters and score\n",
    "        best_params = result.x\n",
    "        best_score = -result.fun\n",
    "\n",
    "        # Map the best parameters back to their names\n",
    "        best_params_dict = {\n",
    "            'class_weight': best_params[0],\n",
    "            'max_depth': None if include_none_in_max_depth and best_params[1] == max_depth_range[1] + 1 else best_params[1],\n",
    "            'splitter': best_params[2],\n",
    "            'criterion': best_params[3],\n",
    "            'min_samples_split': best_params[4],\n",
    "            'min_samples_leaf': best_params[5],\n",
    "            'max_features': best_params[6]\n",
    "        }\n",
    "\n",
    "        return best_score, best_params_dict"
   ]
  },
  {
   "cell_type": "code",
   "execution_count": 41,
   "metadata": {},
   "outputs": [],
   "source": [
    "def opti_validate_RandomForrest(features_train=features_train, target_train=target_train, features_validate=features_validate, target_validate=target_validate,\n",
    "                           n_calls=100,\n",
    "                           n_estimators_range=(1, 100), criterion_list=['gini', 'entropy', 'log_loss'], max_depth_range=(1, 20), include_none_in_max_depth=True,\n",
    "                           min_samples_split_range=(2, 10), min_samples_leaf_range=(1, 10), max_features_list=[None, 'sqrt', 'log2'], class_weight_list=[None, 'balanced']):\n",
    "    \"\"\"\n",
    "    Optimize RandomForestClassifier using Scikit-Optimize with a progress bar.\n",
    "\n",
    "    Parameters:\n",
    "    - features_train (DataFrame): The training features data.\n",
    "    - target_train (Series): The training target data.\n",
    "    - features_validate (DataFrame): The validation features data.\n",
    "    - target_validate (Series): The validation target data.\n",
    "    - features_test (DataFrame): The test features data.\n",
    "    - target_test (Series): The test target data.\n",
    "    - random_state (int): The random state for reproducibility.\n",
    "    - n_calls (int): The number of function evaluations.\n",
    "    - n_estimators_range (tuple): Range for n_estimators.\n",
    "    - criterion_list (list): List of criteria.\n",
    "    - max_depth_range (tuple): Range for max_depth.\n",
    "    - include_none_in_max_depth (bool): Whether to include None in max_depth.\n",
    "    - min_samples_split_range (tuple): Range for min_samples_split.\n",
    "    - min_samples_leaf_range (tuple): Range for min_samples_leaf.\n",
    "    - max_features_list (list): List of max_features options.\n",
    "    - class_weight_list (list): List of class_weight options.\n",
    "\n",
    "    Returns:\n",
    "    - best_score (float): The best validation score achieved.\n",
    "    - best_params (dict): The best hyperparameters found during the optimization.\n",
    "    \"\"\"\n",
    "    # Define the search space\n",
    "    search_space = [\n",
    "        Integer(n_estimators_range[0], n_estimators_range[1], name='n_estimators'),\n",
    "        Categorical(criterion_list, name='criterion'),\n",
    "        Integer(max_depth_range[0], max_depth_range[1] + 1, name='max_depth') if include_none_in_max_depth else Integer(max_depth_range[0], max_depth_range[1], name='max_depth'),\n",
    "        Integer(min_samples_split_range[0], min_samples_split_range[1], name='min_samples_split'),\n",
    "        Integer(min_samples_leaf_range[0], min_samples_leaf_range[1], name='min_samples_leaf'),\n",
    "        Categorical(max_features_list, name='max_features'),\n",
    "        Categorical(class_weight_list, name='class_weight')\n",
    "    ]\n",
    "\n",
    "    # Initialize the progress bar\n",
    "    with tqdm(total=n_calls, desc='Optimizing RandomForest', unit='iteration') as pbar:\n",
    "        def objective(params):\n",
    "            n_estimators, criterion, max_depth, min_samples_split, min_samples_leaf, max_features, class_weight = params\n",
    "\n",
    "            # Handle None for max_depth\n",
    "            if include_none_in_max_depth and max_depth == max_depth_range[1] + 1:\n",
    "                max_depth = None\n",
    "\n",
    "            model = RandomForestClassifier(\n",
    "                n_estimators=n_estimators,\n",
    "                criterion=criterion,\n",
    "                max_depth=max_depth,\n",
    "                min_samples_split=min_samples_split,\n",
    "                min_samples_leaf=min_samples_leaf,\n",
    "                max_features=max_features,\n",
    "                class_weight=class_weight,\n",
    "                random_state=random_state\n",
    "            )\n",
    "\n",
    "            # Train the model\n",
    "            model.fit(features_train, target_train)\n",
    "\n",
    "            # Evaluate the model\n",
    "            score = model.score(features_validate, target_validate)\n",
    "\n",
    "            # Update progress bar\n",
    "            pbar.update(1)\n",
    "\n",
    "            return -score\n",
    "\n",
    "        # Perform the optimization\n",
    "        result = gp_minimize(objective, search_space, n_calls=n_calls, random_state=random_state)\n",
    "\n",
    "        # Close the progress bar\n",
    "        pbar.close()\n",
    "\n",
    "        # Extract the best parameters and score\n",
    "        best_params = result.x\n",
    "        best_score = -result.fun\n",
    "\n",
    "        # Map the best parameters back to their names\n",
    "        best_params_dict = {\n",
    "            'n_estimators': best_params[0],\n",
    "            'criterion': best_params[1],\n",
    "            'max_depth': None if include_none_in_max_depth and best_params[2] == max_depth_range[1] + 1 else best_params[2],\n",
    "            'min_samples_split': best_params[3],\n",
    "            'min_samples_leaf': best_params[4],\n",
    "            'max_features': best_params[5],\n",
    "            'class_weight': best_params[6]\n",
    "        }\n",
    "\n",
    "        return best_score, best_params_dict\n"
   ]
  },
  {
   "cell_type": "code",
   "execution_count": 42,
   "metadata": {},
   "outputs": [],
   "source": [
    "def validate_LogisticRegression(features_train=features_train, target_train=target_train, features_validate=features_validate, target_validate=target_validate, random_state=random_state,\n",
    "                                solvers = ['newton-cg', 'lbfgs', 'liblinear', 'sag', 'saga'],\n",
    "                                duals = [True, False],\n",
    "                                penalties = ['l1', 'l2', 'elasticnet', None]):\n",
    "    \"\"\"\n",
    "    Validates the Logistic Regression model with different parameter combinations.\n",
    "\n",
    "    Parameters:\n",
    "    - features_train: Training features data.\n",
    "    - target_train: Training target data.\n",
    "    - features_validate: Validation features data.\n",
    "    - target_validate: Validation target data.\n",
    "    - random_state: Random state for reproducibility.\n",
    "    - solvers: List of solvers to test.\n",
    "    - duals: List of dual values to test.\n",
    "    - penalties: List of penalties to test.\n",
    "\n",
    "    Returns:\n",
    "    - best_score: Best score achieved by the model.\n",
    "    - best_params: Best parameters combination that achieved the best score.\n",
    "    \"\"\"\n",
    "\n",
    "    # Ignore ConvergenceWarning\n",
    "    warnings.filterwarnings(\"ignore\", category=ConvergenceWarning)\n",
    "\n",
    "    # Ignore LineSearchWarning\n",
    "    warnings.filterwarnings(\"ignore\", message=\"^The line search algorithm did not converge\")\n",
    "    warnings.filterwarnings(\"ignore\", message=\"^Line Search failed\")\n",
    "    \n",
    "                                    \n",
    "    results = []\n",
    "\n",
    "    # Initialize the progress bar\n",
    "    with tqdm(total=len(solvers) * len(duals) * len(penalties), desc='Testing LogisticRegression Parameters', unit='iterations') as pbar:\n",
    "        for solver in solvers:\n",
    "            for dual in duals:\n",
    "                for penalty in penalties:\n",
    "                    # Save params in a dict\n",
    "                    params = {'solver': solver, 'dual': dual, 'penalty': penalty}\n",
    "                    \n",
    "                    # Define, train, and score the model\n",
    "                    model = LogisticRegression(random_state=random_state, solver=solver, dual=dual, penalty=penalty, max_iter=1000000)\n",
    "                    try: # try/except to handle invalid param combinations\n",
    "                        model.fit(features_train, target_train)\n",
    "                        score = model.score(features_validate, target_validate)\n",
    "                        results.append({'score': score, 'params': params})\n",
    "                        # Update the progress bar\n",
    "                        pbar.update(1)\n",
    "                    except:\n",
    "                        pbar.update(1)\n",
    "                        continue\n",
    "\n",
    "                    \n",
    "        # Close the progress bar\n",
    "        pbar.close()\n",
    "\n",
    "        # Convert the results to a DataFrame\n",
    "        results_df = pd.DataFrame(results)\n",
    "\n",
    "        # Get the best score and params\n",
    "        best_score = results_df['score'].max()\n",
    "        best_params = results_df.loc[results_df['score'].idxmax()]['params']\n",
    "        \n",
    "        return best_score, best_params"
   ]
  },
  {
   "cell_type": "markdown",
   "metadata": {},
   "source": [
    "# Decision Tree Classifier"
   ]
  },
  {
   "cell_type": "code",
   "execution_count": 43,
   "metadata": {},
   "outputs": [
    {
     "data": {
      "image/png": "[encoded data removed]",
      "text/plain": [
       "<Figure size 640x480 with 1 Axes>"
      ]
     },
     "metadata": {},
     "output_type": "display_data"
    },
    {
     "name": "stdout",
     "output_type": "stream",
     "text": [
      "\n",
      "DecisionTreeClassifier: Best Score: 0.80248833592535, Best Depth: 8.0\n"
     ]
    },
    {
     "data": {
      "text/plain": [
       "(0.80248833592535, 8.0)"
      ]
     },
     "execution_count": 43,
     "metadata": {},
     "output_type": "execute_result"
    }
   ],
   "source": [
    "validate_DecisionTreeClassifier_depth(features_train, target_train, features_validate, target_validate, random_state, 1, 21)"
   ]
  },
  {
   "cell_type": "markdown",
   "metadata": {},
   "source": [
    "A fairly accurate model (80%) is achieved with all the default values and a max_depth of 8.  \n",
    "\n",
    "Next we will call a function to iterate over a larger set of parameters for the DecisionTreeClassifier that uses gp_minimize to optimize the search_space."
   ]
  },
  {
   "cell_type": "code",
   "execution_count": 44,
   "metadata": {},
   "outputs": [],
   "source": [
    "# best_score, best_params = opti_validate_DecisionTreeClassifier()\n",
    "# print(\"Best Score:\", best_score)\n",
    "# print(\"Best Parameters:\", best_params)"
   ]
  },
  {
   "cell_type": "markdown",
   "metadata": {},
   "source": [
    "The score has actually gone down. It seems gp_minimize was not able to find the best parameters. Lets take a grid approach to testing the parameters instead and test all possible combinations."
   ]
  },
  {
   "cell_type": "code",
   "execution_count": 45,
   "metadata": {},
   "outputs": [],
   "source": [
    "# score, params = validate_DecisionTreeClassifier()\n",
    "# print(\"Best Score:\", score)\n",
    "# print(\"Best Parameters:\", params)"
   ]
  },
  {
   "cell_type": "markdown",
   "metadata": {},
   "source": [
    "A slightly better model is found (improved by about 1.5%). We will now test the model with these parameters to compare to other models."
   ]
  },
  {
   "cell_type": "code",
   "execution_count": 46,
   "metadata": {},
   "outputs": [],
   "source": [
    "# Save the best parameters as code for easy reference (Avoids having to run the optimization again)\n",
    "Score = 0.8165\n",
    "params = {'class_weight': None, 'max_depth': 10, 'splitter': 'random', 'criterion': 'gini', 'min_samples_split': 16, 'min_samples_leaf': 4, 'max_features': None}"
   ]
  },
  {
   "cell_type": "code",
   "execution_count": 47,
   "metadata": {},
   "outputs": [
    {
     "name": "stdout",
     "output_type": "stream",
     "text": [
      "DecisionTreeClassifier Test Score: 0.80248833592535\n"
     ]
    },
    {
     "data": {
      "image/png": "[encoded data removed]",
      "text/plain": [
       "<Figure size 800x600 with 2 Axes>"
      ]
     },
     "metadata": {},
     "output_type": "display_data"
    }
   ],
   "source": [
    "# Test the model with the best parameters on the test data\n",
    "model_test_scores.append(test_model(params, DecisionTreeClassifier))"
   ]
  },
  {
   "cell_type": "markdown",
   "metadata": {},
   "source": [
    "We do see some over fitting as the model performs about 1.4% better on the validation dataset than it does on the test set. The model also tends to error on the side of predicting the Smart plan (Likely because the Smart plan is over represented in the data - but using weight_class='balanced' was tested in the grid search and did not result in a better overall accuracy).  \n",
    "\n",
    "This model exceeds the performance requirements to be considered a successful model, but lets test some other algorithms to see if we can get better results. "
   ]
  },
  {
   "cell_type": "markdown",
   "metadata": {},
   "source": [
    "# Random Forrest Classifier\n",
    "\n",
    "For the sake of resources management we will call a function that uses gp_minimize from scikit optimize - same as with the DecisionTreeClassifier, but more necessary now that we are using RandomForrestClassifier."
   ]
  },
  {
   "cell_type": "code",
   "execution_count": 48,
   "metadata": {},
   "outputs": [],
   "source": [
    "# score, params = opti_validate_RandomForrest()\n",
    "# print(\"Best Score:\", score)\n",
    "# print(\"Best Parameters:\", params)"
   ]
  },
  {
   "cell_type": "markdown",
   "metadata": {},
   "source": [
    "A significantly better performing model has been uncovered. Let's now test the model with the test dataset."
   ]
  },
  {
   "cell_type": "code",
   "execution_count": 49,
   "metadata": {},
   "outputs": [],
   "source": [
    "# Save the best parameters as code for easy reference (Avoids having to run the optimization again)\n",
    "score = .8305\n",
    "params = {'n_estimators': 100, 'criterion': 'gini', 'max_depth': 12, 'min_samples_split': 10, 'min_samples_leaf': 10, 'max_features': None, 'class_weight': None}"
   ]
  },
  {
   "cell_type": "code",
   "execution_count": 50,
   "metadata": {},
   "outputs": [
    {
     "name": "stdout",
     "output_type": "stream",
     "text": [
      "RandomForestClassifier Test Score: 0.8258164852255054\n"
     ]
    },
    {
     "data": {
      "image/png": "[encoded data removed]",
      "text/plain": [
       "<Figure size 800x600 with 2 Axes>"
      ]
     },
     "metadata": {},
     "output_type": "display_data"
    }
   ],
   "source": [
    "# Test the model with the best parameters on the test data\n",
    "model_test_scores.append(test_model(params, RandomForestClassifier))"
   ]
  },
  {
   "cell_type": "markdown",
   "metadata": {},
   "source": [
    "Not only does this model have a better overall accuracy score, it also improves its accuracy in all grids (less false predictions in both categories) compared to the DecisionTreeClassifier model.  \n",
    "Additionally, the model shows less significant over fitting, with a difference of only ~ .05% between the validation and test sets. Much like the DecisionTreeClassifier, this model does tend to error on the side of predicting the Smart plan, but with fewer instances of that error.  \n",
    "\n",
    "This model exceeds the requirements and performs better than the DecisionTreeClassifier. Lets move on to testing the LogisticRegressionClassifier."
   ]
  },
  {
   "cell_type": "markdown",
   "metadata": {},
   "source": [
    "# Logistic Regression Classifier\n",
    "\n",
    "We'll start by using all the default arguements for LogisitcRegressionClassifier (solver='linlinear' instead of 'lbfgs') to get a general sense of the models performance, then we will attempt to refine from there."
   ]
  },
  {
   "cell_type": "code",
   "execution_count": 51,
   "metadata": {},
   "outputs": [
    {
     "name": "stdout",
     "output_type": "stream",
     "text": [
      "Logistic Regression Score: 0.71850699844479\n"
     ]
    }
   ],
   "source": [
    "# Train the Linear Regression model with basic parameters\n",
    "model = LogisticRegression(random_state=random_state, solver='liblinear')\n",
    "\n",
    "# Fit the model\n",
    "model.fit(features_train, target_train)\n",
    "\n",
    "# Get the score\n",
    "score = model.score(features_validate, target_validate)\n",
    "\n",
    "# Print the score\n",
    "print(f'Logistic Regression Score: {score}')"
   ]
  },
  {
   "cell_type": "markdown",
   "metadata": {},
   "source": [
    "By a large margin, this is the lowest scoring model yet. Using a grid search approach, we will see if we can improve the model’s accuracy. The model will need to improve dramatically to compete with either of the previous models."
   ]
  },
  {
   "cell_type": "code",
   "execution_count": 52,
   "metadata": {},
   "outputs": [],
   "source": [
    "# # Validate the Regression model\n",
    "# score, params = validate_LogisticRegression()\n",
    "# print(\"Validation Score:\", score)\n",
    "# print(\"Best Parameters:\", params)"
   ]
  },
  {
   "cell_type": "markdown",
   "metadata": {},
   "source": [
    "The model improved some, but not nearly enough to match the accuracy of the previous two models. We'll test it with the test dataset to just to get an idea of its performance on unseen data."
   ]
  },
  {
   "cell_type": "code",
   "execution_count": 53,
   "metadata": {},
   "outputs": [
    {
     "name": "stdout",
     "output_type": "stream",
     "text": [
      "LogisticRegression Test Score: 0.7480559875583204\n"
     ]
    },
    {
     "name": "stderr",
     "output_type": "stream",
     "text": [
      "/Volumes/T7/Coding_Files/TripleTen Data Science/Sprint 7/Project/.conda/lib/python3.10/site-packages/scipy/optimize/_linesearch.py:313: LineSearchWarning: The line search algorithm did not converge\n",
      "  alpha_star, phi_star, old_fval, derphi_star = scalar_search_wolfe2(\n",
      "/Volumes/T7/Coding_Files/TripleTen Data Science/Sprint 7/Project/.conda/lib/python3.10/site-packages/sklearn/utils/optimize.py:43: LineSearchWarning: The line search algorithm did not converge\n",
      "  ret = line_search_wolfe2(\n"
     ]
    },
    {
     "data": {
      "image/png": "[encoded data removed]",
      "text/plain": [
       "<Figure size 800x600 with 2 Axes>"
      ]
     },
     "metadata": {},
     "output_type": "display_data"
    }
   ],
   "source": [
    "# Save the best parameters as code for easy reference (Avoids having to run the optimization again)\n",
    "score = .7387\n",
    "params = {'solver': 'newton-cg', 'dual': False, 'penalty': 'l2'}\n",
    "\n",
    "# Test the model on the test data even though it's not the best, just to see how it performs in terms of overfitting\n",
    "model_test_scores.append(test_model(params, LogisticRegression))"
   ]
  },
  {
   "cell_type": "markdown",
   "metadata": {},
   "source": [
    "Interestingly, the model performed better on the unseen data set. However, we can see that this model tends to falsely predict the smart plan far more often than the previous two models."
   ]
  },
  {
   "cell_type": "markdown",
   "metadata": {},
   "source": [
    "# Comparing Test Scores"
   ]
  },
  {
   "cell_type": "code",
   "execution_count": 54,
   "metadata": {},
   "outputs": [
    {
     "name": "stdout",
     "output_type": "stream",
     "text": [
      "DecisionTreeClassifier Test Score: 80.25%\n",
      "RandomForestClassifier Test Score: 82.58%\n",
      "LogisticRegression Test Score: 74.81%\n"
     ]
    }
   ],
   "source": [
    "print(f\"{model_test_scores[0]['model']} Test Score: {model_test_scores[0]['score']*100:.2f}%\")\n",
    "print(f\"{model_test_scores[1]['model']} Test Score: {model_test_scores[1]['score']*100:.2f}%\")\n",
    "print(f\"{model_test_scores[2]['model']} Test Score: {model_test_scores[2]['score']*100:.2f}%\")"
   ]
  },
  {
   "cell_type": "code",
   "execution_count": 55,
   "metadata": {},
   "outputs": [
    {
     "name": "stdout",
     "output_type": "stream",
     "text": [
      "RandomForestClassifier parameters: {'n_estimators': 100, 'criterion': 'gini', 'max_depth': 12, 'min_samples_split': 10, 'min_samples_leaf': 10, 'max_features': None, 'class_weight': None}\n"
     ]
    }
   ],
   "source": [
    "print(f'{model_test_scores[1][\"model\"]} parameters: {model_test_scores[1][\"parameters\"]}')"
   ]
  },
  {
   "cell_type": "markdown",
   "metadata": {},
   "source": [
    "# Conclusion\n",
    "\n",
    "The best performing model has been determined to be the RandomForrestClassifier with a accuracy score of 82.58%.  \n",
    "\n",
    "Parameters for the model:  \n",
    "{'n_estimators': 100,  \n",
    "'criterion': 'gini',  \n",
    "'max_depth': 12,  \n",
    "'min_samples_split': 10,  \n",
    "'min_samples_leaf': 10,  \n",
    "'max_features': None,  \n",
    "'class_weight': None}"
   ]
  },
  {
   "cell_type": "code",
   "execution_count": 56,
   "metadata": {},
   "outputs": [
    {
     "data": {
      "text/plain": [
       "['BestModel.joblib']"
      ]
     },
     "execution_count": 56,
     "metadata": {},
     "output_type": "execute_result"
    }
   ],
   "source": [
    "# Train the best model on the entire dataset\n",
    "model = RandomForestClassifier(random_state=random_state, **model_test_scores[1]['parameters'])\n",
    "model.fit(features, target)\n",
    "\n",
    "# Save the model\n",
    "joblib.dump(model, 'BestModel.joblib')"
   ]
  }
 ],
 "metadata": {
  "kernelspec": {
   "display_name": "venv1",
   "language": "python",
   "name": "python3"
  },
  "language_info": {
   "codemirror_mode": {
    "name": "ipython",
    "version": 3
   },
   "file_extension": ".py",
   "mimetype": "text/x-python",
   "name": "python",
   "nbconvert_exporter": "python",
   "pygments_lexer": "ipython3",
   "version": "3.10.12"
  }
 },
 "nbformat": 4,
 "nbformat_minor": 2
}
